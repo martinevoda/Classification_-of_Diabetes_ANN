{
 "cells": [
  {
   "cell_type": "code",
   "execution_count": 9,
   "id": "85f6d219",
   "metadata": {},
   "outputs": [],
   "source": [
    "import pandas as pd\n",
    "import numpy as np\n",
    "import matplotlib.pyplot as plt\n",
    "import seaborn as sns\n",
    "import os\n",
    "from sklearn.model_selection import train_test_split\n",
    "from sklearn.preprocessing import StandardScaler\n",
    "from sklearn.metrics import accuracy_score\n",
    "from sklearn.metrics import classification_report\n",
    "from sklearn.tree import DecisionTreeClassifier\n",
    "from sklearn.ensemble import RandomForestClassifier\n",
    "from sklearn.linear_model import LogisticRegression\n",
    "from sklearn.neighbors import KNeighborsClassifier\n",
    "from sklearn.ensemble import AdaBoostClassifier\n",
    "from sklearn.ensemble import BaggingClassifier\n",
    "from xgboost import XGBClassifier\n",
    "from sklearn.model_selection import RandomizedSearchCV,GridSearchCV\n",
    "from sklearn.metrics import confusion_matrix\n",
    "\n",
    "breast_cancer_2 = pd.read_csv('../data/gbsg_without_unnamed.csv')\n",
    "breast_cancer_without_outliers = breast_cancer_2.copy()"
   ]
  },
  {
   "cell_type": "code",
   "execution_count": 10,
   "id": "0ba28dc4",
   "metadata": {},
   "outputs": [],
   "source": [
    "import warnings\n",
    "warnings.filterwarnings('ignore')"
   ]
  },
  {
   "cell_type": "code",
   "execution_count": 11,
   "id": "66e0eda4",
   "metadata": {
    "scrolled": true
   },
   "outputs": [
    {
     "data": {
      "text/html": [
       "<div>\n",
       "<style scoped>\n",
       "    .dataframe tbody tr th:only-of-type {\n",
       "        vertical-align: middle;\n",
       "    }\n",
       "\n",
       "    .dataframe tbody tr th {\n",
       "        vertical-align: top;\n",
       "    }\n",
       "\n",
       "    .dataframe thead th {\n",
       "        text-align: right;\n",
       "    }\n",
       "</style>\n",
       "<table border=\"1\" class=\"dataframe\">\n",
       "  <thead>\n",
       "    <tr style=\"text-align: right;\">\n",
       "      <th></th>\n",
       "      <th>pid</th>\n",
       "      <th>age</th>\n",
       "      <th>meno</th>\n",
       "      <th>size</th>\n",
       "      <th>grade</th>\n",
       "      <th>nodes</th>\n",
       "      <th>pgr</th>\n",
       "      <th>er</th>\n",
       "      <th>hormon</th>\n",
       "      <th>rfstime</th>\n",
       "      <th>status</th>\n",
       "    </tr>\n",
       "  </thead>\n",
       "  <tbody>\n",
       "    <tr>\n",
       "      <th>0</th>\n",
       "      <td>132</td>\n",
       "      <td>49</td>\n",
       "      <td>0</td>\n",
       "      <td>18</td>\n",
       "      <td>2</td>\n",
       "      <td>2</td>\n",
       "      <td>0</td>\n",
       "      <td>0</td>\n",
       "      <td>0</td>\n",
       "      <td>1838</td>\n",
       "      <td>0</td>\n",
       "    </tr>\n",
       "    <tr>\n",
       "      <th>1</th>\n",
       "      <td>1575</td>\n",
       "      <td>55</td>\n",
       "      <td>1</td>\n",
       "      <td>20</td>\n",
       "      <td>3</td>\n",
       "      <td>16</td>\n",
       "      <td>0</td>\n",
       "      <td>0</td>\n",
       "      <td>0</td>\n",
       "      <td>403</td>\n",
       "      <td>1</td>\n",
       "    </tr>\n",
       "    <tr>\n",
       "      <th>2</th>\n",
       "      <td>1140</td>\n",
       "      <td>56</td>\n",
       "      <td>1</td>\n",
       "      <td>40</td>\n",
       "      <td>3</td>\n",
       "      <td>3</td>\n",
       "      <td>0</td>\n",
       "      <td>0</td>\n",
       "      <td>0</td>\n",
       "      <td>1603</td>\n",
       "      <td>0</td>\n",
       "    </tr>\n",
       "    <tr>\n",
       "      <th>3</th>\n",
       "      <td>769</td>\n",
       "      <td>45</td>\n",
       "      <td>0</td>\n",
       "      <td>25</td>\n",
       "      <td>3</td>\n",
       "      <td>1</td>\n",
       "      <td>0</td>\n",
       "      <td>4</td>\n",
       "      <td>0</td>\n",
       "      <td>177</td>\n",
       "      <td>0</td>\n",
       "    </tr>\n",
       "    <tr>\n",
       "      <th>4</th>\n",
       "      <td>130</td>\n",
       "      <td>65</td>\n",
       "      <td>1</td>\n",
       "      <td>30</td>\n",
       "      <td>2</td>\n",
       "      <td>5</td>\n",
       "      <td>0</td>\n",
       "      <td>36</td>\n",
       "      <td>1</td>\n",
       "      <td>1855</td>\n",
       "      <td>0</td>\n",
       "    </tr>\n",
       "  </tbody>\n",
       "</table>\n",
       "</div>"
      ],
      "text/plain": [
       "    pid  age  meno  size  grade  nodes  pgr  er  hormon  rfstime  status\n",
       "0   132   49     0    18      2      2    0   0       0     1838       0\n",
       "1  1575   55     1    20      3     16    0   0       0      403       1\n",
       "2  1140   56     1    40      3      3    0   0       0     1603       0\n",
       "3   769   45     0    25      3      1    0   4       0      177       0\n",
       "4   130   65     1    30      2      5    0  36       1     1855       0"
      ]
     },
     "execution_count": 11,
     "metadata": {},
     "output_type": "execute_result"
    }
   ],
   "source": [
    "breast_cancer_without_outliers.head()"
   ]
  },
  {
   "cell_type": "code",
   "execution_count": 13,
   "id": "20c2bb56",
   "metadata": {},
   "outputs": [
    {
     "data": {
      "text/html": [
       "<div>\n",
       "<style scoped>\n",
       "    .dataframe tbody tr th:only-of-type {\n",
       "        vertical-align: middle;\n",
       "    }\n",
       "\n",
       "    .dataframe tbody tr th {\n",
       "        vertical-align: top;\n",
       "    }\n",
       "\n",
       "    .dataframe thead th {\n",
       "        text-align: right;\n",
       "    }\n",
       "</style>\n",
       "<table border=\"1\" class=\"dataframe\">\n",
       "  <thead>\n",
       "    <tr style=\"text-align: right;\">\n",
       "      <th></th>\n",
       "      <th>age</th>\n",
       "      <th>meno</th>\n",
       "      <th>size</th>\n",
       "      <th>grade</th>\n",
       "      <th>nodes</th>\n",
       "      <th>pgr</th>\n",
       "      <th>er</th>\n",
       "      <th>hormon</th>\n",
       "      <th>rfstime</th>\n",
       "      <th>status</th>\n",
       "    </tr>\n",
       "  </thead>\n",
       "  <tbody>\n",
       "    <tr>\n",
       "      <th>0</th>\n",
       "      <td>49</td>\n",
       "      <td>0</td>\n",
       "      <td>18</td>\n",
       "      <td>2</td>\n",
       "      <td>2</td>\n",
       "      <td>0</td>\n",
       "      <td>0</td>\n",
       "      <td>0</td>\n",
       "      <td>1838</td>\n",
       "      <td>0</td>\n",
       "    </tr>\n",
       "    <tr>\n",
       "      <th>1</th>\n",
       "      <td>55</td>\n",
       "      <td>1</td>\n",
       "      <td>20</td>\n",
       "      <td>3</td>\n",
       "      <td>16</td>\n",
       "      <td>0</td>\n",
       "      <td>0</td>\n",
       "      <td>0</td>\n",
       "      <td>403</td>\n",
       "      <td>1</td>\n",
       "    </tr>\n",
       "    <tr>\n",
       "      <th>2</th>\n",
       "      <td>56</td>\n",
       "      <td>1</td>\n",
       "      <td>40</td>\n",
       "      <td>3</td>\n",
       "      <td>3</td>\n",
       "      <td>0</td>\n",
       "      <td>0</td>\n",
       "      <td>0</td>\n",
       "      <td>1603</td>\n",
       "      <td>0</td>\n",
       "    </tr>\n",
       "    <tr>\n",
       "      <th>3</th>\n",
       "      <td>45</td>\n",
       "      <td>0</td>\n",
       "      <td>25</td>\n",
       "      <td>3</td>\n",
       "      <td>1</td>\n",
       "      <td>0</td>\n",
       "      <td>4</td>\n",
       "      <td>0</td>\n",
       "      <td>177</td>\n",
       "      <td>0</td>\n",
       "    </tr>\n",
       "    <tr>\n",
       "      <th>4</th>\n",
       "      <td>65</td>\n",
       "      <td>1</td>\n",
       "      <td>30</td>\n",
       "      <td>2</td>\n",
       "      <td>5</td>\n",
       "      <td>0</td>\n",
       "      <td>36</td>\n",
       "      <td>1</td>\n",
       "      <td>1855</td>\n",
       "      <td>0</td>\n",
       "    </tr>\n",
       "  </tbody>\n",
       "</table>\n",
       "</div>"
      ],
      "text/plain": [
       "   age  meno  size  grade  nodes  pgr  er  hormon  rfstime  status\n",
       "0   49     0    18      2      2    0   0       0     1838       0\n",
       "1   55     1    20      3     16    0   0       0      403       1\n",
       "2   56     1    40      3      3    0   0       0     1603       0\n",
       "3   45     0    25      3      1    0   4       0      177       0\n",
       "4   65     1    30      2      5    0  36       1     1855       0"
      ]
     },
     "execution_count": 13,
     "metadata": {},
     "output_type": "execute_result"
    }
   ],
   "source": [
    "breast_cancer_without_outliers = breast_cancer_without_outliers.drop(['pid'],axis=1)\n",
    "breast_cancer_without_outliers.head()"
   ]
  },
  {
   "cell_type": "markdown",
   "id": "c5056dfd",
   "metadata": {},
   "source": [
    "## Calculate Outliers"
   ]
  },
  {
   "cell_type": "code",
   "execution_count": 17,
   "id": "e7ccf976",
   "metadata": {},
   "outputs": [
    {
     "name": "stdout",
     "output_type": "stream",
     "text": [
      "Column: age\n",
      "Lower Bound: 23.5, Upper Bound: 83.5\n",
      "Column: meno\n",
      "Lower Bound: -1.5, Upper Bound: 2.5\n",
      "Column: size\n",
      "Lower Bound: -2.5, Upper Bound: 57.5\n",
      "Column: grade\n",
      "Lower Bound: 2.0, Upper Bound: 2.0\n",
      "Column: nodes\n",
      "Lower Bound: -8.0, Upper Bound: 16.0\n",
      "Column: pgr\n",
      "Lower Bound: -180.125, Upper Bound: 318.875\n",
      "Column: er\n",
      "Lower Bound: -151.0, Upper Bound: 273.0\n",
      "Column: hormon\n",
      "Lower Bound: -1.5, Upper Bound: 2.5\n",
      "Column: rfstime\n",
      "Lower Bound: -1107.75, Upper Bound: 3360.25\n",
      "Column: status\n",
      "Lower Bound: -1.5, Upper Bound: 2.5\n",
      "Total Percentage of Outlier is in the Dataset: 6.44%\n",
      "     age  meno  size  grade  nodes  pgr  er  hormon  rfstime  status\n",
      "297   21     0    15      2      3   24  25       0      247       1\n",
      "40    50     0    60      3      4    0   0       0      446       1\n",
      "43    53     1    58      2      1    0   0       1     1483       0\n",
      "57    70     1    80      3      8    0   0       0     1449       1\n",
      "60    41     0    80      2      1    0   0       1      533       1\n",
      "   age  meno  size  grade  nodes  pgr  er  hormon  rfstime  status\n",
      "0   49     0    18      2      2    0   0       0     1838       0\n",
      "4   65     1    30      2      5    0  36       1     1855       0\n",
      "5   48     0    52      2     11    0   0       0      842       1\n",
      "7   37     0    20      2      9    0   0       1       42       0\n",
      "8   67     1    20      2      1    0   0       1      564       1\n",
      "(331, 10)\n"
     ]
    }
   ],
   "source": [
    "def calculate_percentage_of_outliers(data, multiplier=1.5):\n",
    "    total_outlier = 0\n",
    "    total_data_points = 0\n",
    "    all_outliers = pd.DataFrame()\n",
    "    \n",
    "    \n",
    "    \n",
    "    for column in data.columns:\n",
    "        #Caluculate IQR for each column\n",
    "        Q1 = data[column].quantile(0.25)\n",
    "        Q3 = data[column].quantile(0.75)\n",
    "        IQR = Q3 - Q1\n",
    "        \n",
    "        #Define outlier thresholds for each column\n",
    "        lower_bound = Q1 - multiplier * IQR\n",
    "        upper_bound = Q3 + multiplier * IQR\n",
    "        \n",
    "        #Identify for each column\n",
    "        outliers = data[(data[column] < lower_bound) | (data[column] > upper_bound)]\n",
    "       \n",
    "        \n",
    "        #Update total count of outlier and data points\n",
    "        total_outlier += len(outliers)\n",
    "        total_data_points += len(data[column])\n",
    "        \n",
    "        #Print information about each column\n",
    "        print(f\"Column: {column}\")\n",
    "        print(f\"Lower Bound: {lower_bound}, Upper Bound: {upper_bound}\")\n",
    "        \n",
    "        #Concatenate outliers for each column into a single DataFrame\n",
    "        all_outliers = pd.concat([all_outliers, outliers])\n",
    "    \n",
    "    #Calculate total percentage of outlier\n",
    "    total_percentage_outlier = (total_outlier / total_data_points)* 100\n",
    "    \n",
    "    \n",
    "    return total_percentage_outlier, all_outliers\n",
    "\n",
    "percentage_outliers, outliers = calculate_percentage_of_outliers(breast_cancer_without_outliers)\n",
    "\n",
    "def remove_outliers(data, outliers):\n",
    "    return data.drop(outliers.index)\n",
    "\n",
    "cleaned_data = remove_outliers(breast_cancer_without_outliers,outliers)\n",
    "\n",
    "print(f\"Total Percentage of Outlier is in the Dataset: {percentage_outliers:.2f}%\")\n",
    "print(outliers.head())\n",
    "print(cleaned_data.head())\n",
    "print(cleaned_data.shape)\n"
   ]
  },
  {
   "cell_type": "markdown",
   "id": "fe41cab5",
   "metadata": {},
   "source": [
    "## Remove Outliers"
   ]
  },
  {
   "cell_type": "code",
   "execution_count": 18,
   "id": "0450179e",
   "metadata": {},
   "outputs": [
    {
     "data": {
      "text/plain": [
       "(686, 10)"
      ]
     },
     "execution_count": 18,
     "metadata": {},
     "output_type": "execute_result"
    }
   ],
   "source": [
    "breast_cancer_without_outliers.shape"
   ]
  },
  {
   "cell_type": "code",
   "execution_count": 19,
   "id": "a3246703",
   "metadata": {},
   "outputs": [],
   "source": [
    "X = cleaned_data.drop(['status'], axis=1)\n",
    "y = cleaned_data['status']\n",
    "X_train, X_test, y_train, y_test = train_test_split(X,y,test_size=0.2, random_state=42)"
   ]
  },
  {
   "cell_type": "code",
   "execution_count": 20,
   "id": "5ce9cd71",
   "metadata": {},
   "outputs": [
    {
     "data": {
      "text/plain": [
       "((264, 9), (264,))"
      ]
     },
     "execution_count": 20,
     "metadata": {},
     "output_type": "execute_result"
    }
   ],
   "source": [
    "X_train.shape,y_train.shape"
   ]
  },
  {
   "cell_type": "code",
   "execution_count": 21,
   "id": "740a74d7",
   "metadata": {},
   "outputs": [
    {
     "data": {
      "text/plain": [
       "((67, 9), (67,))"
      ]
     },
     "execution_count": 21,
     "metadata": {},
     "output_type": "execute_result"
    }
   ],
   "source": [
    "X_test.shape,y_test.shape"
   ]
  },
  {
   "cell_type": "code",
   "execution_count": 22,
   "id": "1b513c31",
   "metadata": {},
   "outputs": [],
   "source": [
    "scaler = StandardScaler()\n",
    "X_train = scaler.fit_transform(X_train)\n",
    "X_test = scaler.transform(X_test)"
   ]
  },
  {
   "cell_type": "code",
   "execution_count": 23,
   "id": "2ccc5a47",
   "metadata": {},
   "outputs": [
    {
     "name": "stdout",
     "output_type": "stream",
     "text": [
      "Logistic Regresion Best Parameters: {'C': 0.1}\n",
      "K-Nearest Neighbors Best Parameters: {'n_neighbors': 5}\n",
      "Decision Tree Best Parameters: {'criterion': 'gini', 'max_depth': 1, 'min_samples_leaf': 100}\n",
      "Random Forest Best Parameters: {'min_samples_leaf': 2, 'n_estimators': 50}\n",
      "AdaBoost Best Parameters: {'learning_rate': 0.1, 'n_estimators': 100}\n",
      "XGBoost Best Parameters: {'learning_rate': 0.1, 'n_estimators': 250}\n"
     ]
    }
   ],
   "source": [
    "# Logistic Regression\n",
    "lr = LogisticRegression(random_state=43)\n",
    "lr_param_grid={'C':[0.001, 0.01, 0.1, 1, 10, 100]}\n",
    "lr_grid_search = GridSearchCV(lr, lr_param_grid, cv=5, scoring='accuracy')\n",
    "lr_grid_search.fit(X_train, y_train)\n",
    "lr_best_params = lr_grid_search.best_params_\n",
    "\n",
    "# K-Nearest Neighbors\n",
    "knn = KNeighborsClassifier()\n",
    "knn_param_gird = {'n_neighbors':np.arange(1,50)}\n",
    "knn_grid_search = GridSearchCV(knn, knn_param_gird, cv=5, scoring='accuracy')\n",
    "knn_grid_search.fit(X_train, y_train)\n",
    "knn_best_params = knn_grid_search.best_params_\n",
    "\n",
    "# Decision Tree\n",
    "dt = DecisionTreeClassifier()\n",
    "dt_param_grid = {'criterion': ['gini', 'entropy'], 'max_depth': np.arange(1, 50), 'min_samples_leaf':[1,2,4,5,10,20,30,40,50,80,100]}\n",
    "dt_grid_search = GridSearchCV(dt, dt_param_grid, cv=5, scoring='accuracy')\n",
    "dt_grid_search.fit(X_train, y_train)\n",
    "dt_best_params = dt_grid_search.best_params_\n",
    "\n",
    "# Random Forest\n",
    "rf = RandomForestClassifier()\n",
    "rf_param_grid = {'n_estimators': [50, 100, 200, 350, 500], 'min_samples_leaf':[2,10,30,50,80,100]}\n",
    "rf_grid_search = GridSearchCV(rf, rf_param_grid, cv=5, scoring='accuracy')\n",
    "rf_grid_search.fit(X_train, y_train)\n",
    "rf_best_params = rf_grid_search.best_params_\n",
    "\n",
    "# AdaBoost\n",
    "ada = AdaBoostClassifier()\n",
    "ada_param_grid = {'n_estimators': [50,100,250,400,500], 'learning_rate':[0.1,0.001,0.2,0.5,0.8,1]}\n",
    "ada_grid_search = GridSearchCV(ada, ada_param_grid, cv=5, scoring='accuracy')\n",
    "ada_grid_search.fit(X_train, y_train)\n",
    "ada_best_params = ada_grid_search.best_params_\n",
    "\n",
    "# XGBoost\n",
    "xgb = XGBClassifier(eval_metric='logloss', use_label_encoder=False)\n",
    "xgb_param_grid = {'n_estimators': [50,100,250,600,800,1000], 'learning_rate':[0.1,0.001,0.2,0.5,0.8,1]}\n",
    "xgb_grid_search = GridSearchCV(xgb, xgb_param_grid, cv=5, scoring='accuracy')\n",
    "xgb_grid_search.fit(X_train, y_train)\n",
    "xgb_best_params = xgb_grid_search.best_params_\n",
    "\n",
    "\n",
    "\n",
    "print(f\"Logistic Regresion Best Parameters: {lr_best_params}\")\n",
    "print(f\"K-Nearest Neighbors Best Parameters: {knn_best_params}\")\n",
    "print(f\"Decision Tree Best Parameters: {dt_best_params}\")\n",
    "print(f\"Random Forest Best Parameters: {rf_best_params}\")\n",
    "print(f\"AdaBoost Best Parameters: {ada_best_params}\")\n",
    "print(f\"XGBoost Best Parameters: {xgb_best_params}\")"
   ]
  },
  {
   "cell_type": "code",
   "execution_count": 24,
   "id": "403902ea",
   "metadata": {},
   "outputs": [],
   "source": [
    "models = {\n",
    "    \"LogisticRegression\": LogisticRegression(**lr_best_params, random_state=42),\n",
    "    \"KNeighborsClassifier\": KNeighborsClassifier(**knn_best_params) ,\n",
    "    \"DecisionTreeClassifier\": DecisionTreeClassifier(**dt_best_params),\n",
    "    \"RandomForestClassifier\": RandomForestClassifier(**rf_best_params),\n",
    "    \"AdaBoostClassifier\": AdaBoostClassifier(**ada_best_params),\n",
    "    \"XGBClassifier\": XGBClassifier(eval_metric='logloss', use_label_encoder=False, **xgb_best_params)\n",
    "     }"
   ]
  },
  {
   "cell_type": "code",
   "execution_count": 25,
   "id": "fb4bb974",
   "metadata": {},
   "outputs": [
    {
     "name": "stdout",
     "output_type": "stream",
     "text": [
      "LogisticRegression - Accuracy:  0.6418\n",
      "KNeighborsClassifier - Accuracy:  0.6418\n",
      "DecisionTreeClassifier - Accuracy:  0.6418\n",
      "RandomForestClassifier - Accuracy:  0.7164\n",
      "AdaBoostClassifier - Accuracy:  0.6866\n",
      "XGBClassifier - Accuracy:  0.7015\n"
     ]
    }
   ],
   "source": [
    "for model_name, model in models.items():\n",
    "   \n",
    "    #Fit model to training set\n",
    "    model.fit(X_train,y_train)\n",
    "    \n",
    "    #Predict y_pred\n",
    "    y_pred = model.predict(X_test)\n",
    "    accuracy = accuracy_score(y_test,y_pred)\n",
    "    \n",
    "    #Evaluation the test set\n",
    "    print(f\"{model_name} - Accuracy: {accuracy: .4f}\")"
   ]
  },
  {
   "cell_type": "code",
   "execution_count": 26,
   "id": "5e336013",
   "metadata": {},
   "outputs": [
    {
     "name": "stdout",
     "output_type": "stream",
     "text": [
      "Classification Report for LogisticRegression:\n",
      "              precision    recall  f1-score   support\n",
      "\n",
      "           0       0.71      0.63      0.67        38\n",
      "           1       0.58      0.66      0.61        29\n",
      "\n",
      "    accuracy                           0.64        67\n",
      "   macro avg       0.64      0.64      0.64        67\n",
      "weighted avg       0.65      0.64      0.64        67\n",
      "\n",
      "\n",
      "Classification Report for KNeighborsClassifier:\n",
      "              precision    recall  f1-score   support\n",
      "\n",
      "           0       0.72      0.61      0.66        38\n",
      "           1       0.57      0.69      0.62        29\n",
      "\n",
      "    accuracy                           0.64        67\n",
      "   macro avg       0.65      0.65      0.64        67\n",
      "weighted avg       0.65      0.64      0.64        67\n",
      "\n",
      "\n",
      "Classification Report for DecisionTreeClassifier:\n",
      "              precision    recall  f1-score   support\n",
      "\n",
      "           0       0.73      0.58      0.65        38\n",
      "           1       0.57      0.72      0.64        29\n",
      "\n",
      "    accuracy                           0.64        67\n",
      "   macro avg       0.65      0.65      0.64        67\n",
      "weighted avg       0.66      0.64      0.64        67\n",
      "\n",
      "\n",
      "Classification Report for RandomForestClassifier:\n",
      "              precision    recall  f1-score   support\n",
      "\n",
      "           0       0.78      0.74      0.76        38\n",
      "           1       0.68      0.72      0.70        29\n",
      "\n",
      "    accuracy                           0.73        67\n",
      "   macro avg       0.73      0.73      0.73        67\n",
      "weighted avg       0.73      0.73      0.73        67\n",
      "\n",
      "\n",
      "Classification Report for AdaBoostClassifier:\n",
      "              precision    recall  f1-score   support\n",
      "\n",
      "           0       0.76      0.66      0.70        38\n",
      "           1       0.62      0.72      0.67        29\n",
      "\n",
      "    accuracy                           0.69        67\n",
      "   macro avg       0.69      0.69      0.69        67\n",
      "weighted avg       0.70      0.69      0.69        67\n",
      "\n",
      "\n",
      "Classification Report for XGBClassifier:\n",
      "              precision    recall  f1-score   support\n",
      "\n",
      "           0       0.78      0.66      0.71        38\n",
      "           1       0.63      0.76      0.69        29\n",
      "\n",
      "    accuracy                           0.70        67\n",
      "   macro avg       0.70      0.71      0.70        67\n",
      "weighted avg       0.72      0.70      0.70        67\n",
      "\n",
      "\n"
     ]
    }
   ],
   "source": [
    "for model_name, model in models.items():\n",
    "    model.fit(X_train, y_train)\n",
    "    y_pred = model.predict(X_test)\n",
    "    report = classification_report(y_test, y_pred)\n",
    "    print(f\"Classification Report for {model_name}:\\n{report}\\n\")"
   ]
  },
  {
   "cell_type": "code",
   "execution_count": 27,
   "id": "dd7e3ecc",
   "metadata": {},
   "outputs": [
    {
     "data": {
      "image/png": "[encoded data removed]",
      "text/plain": [
       "<Figure size 640x480 with 2 Axes>"
      ]
     },
     "metadata": {},
     "output_type": "display_data"
    },
    {
     "data": {
      "image/png": "[encoded data removed]",
      "text/plain": [
       "<Figure size 640x480 with 2 Axes>"
      ]
     },
     "metadata": {},
     "output_type": "display_data"
    },
    {
     "data": {
      "image/png": "[encoded data removed]",
      "text/plain": [
       "<Figure size 640x480 with 2 Axes>"
      ]
     },
     "metadata": {},
     "output_type": "display_data"
    },
    {
     "data": {
      "image/png": "[encoded data removed]",
      "text/plain": [
       "<Figure size 640x480 with 2 Axes>"
      ]
     },
     "metadata": {},
     "output_type": "display_data"
    },
    {
     "data": {
      "image/png": "[encoded data removed]",
      "text/plain": [
       "<Figure size 640x480 with 2 Axes>"
      ]
     },
     "metadata": {},
     "output_type": "display_data"
    },
    {
     "data": {
      "image/png": "[encoded data removed]",
      "text/plain": [
       "<Figure size 640x480 with 2 Axes>"
      ]
     },
     "metadata": {},
     "output_type": "display_data"
    },
    {
     "name": "stdout",
     "output_type": "stream",
     "text": [
      "Confusion Matrix for LogisticRegression:\n",
      "[[24 14]\n",
      " [10 19]]\n",
      "\n",
      "Confusion Matrix for KNeighborsClassifier:\n",
      "[[23 15]\n",
      " [ 9 20]]\n",
      "\n",
      "Confusion Matrix for DecisionTreeClassifier:\n",
      "[[22 16]\n",
      " [ 8 21]]\n",
      "\n",
      "Confusion Matrix for RandomForestClassifier:\n",
      "[[26 12]\n",
      " [ 9 20]]\n",
      "\n",
      "Confusion Matrix for AdaBoostClassifier:\n",
      "[[25 13]\n",
      " [ 8 21]]\n",
      "\n",
      "Confusion Matrix for XGBClassifier:\n",
      "[[25 13]\n",
      " [ 7 22]]\n",
      "\n"
     ]
    }
   ],
   "source": [
    "conf_matrices = []\n",
    "for model_name, model in models.items():\n",
    "    #Fit the model\n",
    "    model.fit(X_train, y_train)\n",
    "    #Predict the model\n",
    "    y_pred = model.predict(X_test)\n",
    "    #Create confusion matrix\n",
    "    cm = confusion_matrix(y_test, y_pred)\n",
    "    #Plot the confusion matix\n",
    "    ax = plt.subplot()\n",
    "    sns.heatmap(cm, annot=True, ax=ax, cmap=\"YlOrBr\")\n",
    "    ax.set_xlabel('Predicted')\n",
    "    ax.set_ylabel('Actual')\n",
    "    ax.set_title(f'Confusion Matrix - {model_name}')\n",
    "    plt.show()\n",
    "    \n",
    "    conf_matrices.append((model_name, cm))\n",
    "for name, cm in conf_matrices:\n",
    "    print(f\"Confusion Matrix for {name}:\\n{cm}\\n\")  "
   ]
  },
  {
   "cell_type": "code",
   "execution_count": null,
   "id": "c1822bfc",
   "metadata": {},
   "outputs": [],
   "source": []
  }
 ],
 "metadata": {
  "kernelspec": {
   "display_name": "Python 3 (ipykernel)",
   "language": "python",
   "name": "python3"
  },
  "language_info": {
   "codemirror_mode": {
    "name": "ipython",
    "version": 3
   },
   "file_extension": ".py",
   "mimetype": "text/x-python",
   "name": "python",
   "nbconvert_exporter": "python",
   "pygments_lexer": "ipython3",
   "version": "3.10.9"
  }
 },
 "nbformat": 4,
 "nbformat_minor": 5
}
