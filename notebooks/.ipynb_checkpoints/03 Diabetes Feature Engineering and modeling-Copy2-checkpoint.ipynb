{
 "cells": [
  {
   "cell_type": "markdown",
   "id": "930a6b42-7b81-4afe-b72f-53c949de8073",
   "metadata": {},
   "source": [
    "# Diabetes Feature Engineering and Modeling"
   ]
  },
  {
   "cell_type": "markdown",
   "id": "638bd5a6-ff15-4ed3-b824-58455dc87ddf",
   "metadata": {},
   "source": [
    "## Contents\n",
    "\n",
    "- Importing the libraries\n",
    "- Data Preprocessing\n",
    "    - Importing the dataset\n",
    "    - Handling missimg values\n",
    "    - Creating features and target\n",
    "    - Splitting the dataset into the Training set and Test set\n",
    "    - Feature Scaling\n",
    "- Building the ANN\n",
    "    - Building the Initial Model (first model)\n",
    "      - Traing the model\n",
    "      - Predicting the test result in the model\n",
    "      - Making the Confusion Matrix and evaluating the model\n",
    "      - Creating the KerasClassifier\n",
    "      - Applying K-Fold Cross Validation\n",
    "      - Applying Grid Search to find the best model and best parameters\n",
    "    - Building the Best Model (second model)\n",
    "      - Training the model with EarlyStopping\n",
    "      - Evaluation the model\n",
    "      - Predicting the test result in the model\n",
    "      - Making Confusion Matrix and evaluating the model\n",
    "    - Building the Improved Model (third model)\n",
    "      - Applying KerasClassifier to the model\n",
    "      - Applying K-Fold Cross Validation\n",
    "      - Training the model with EarlyStopping and ReduceLROnPlateau\n",
    "      - Save the model\n",
    "      - Making the Confusion Matrix and evaluating the model\n",
    "- Conclusion Report"
   ]
  },
  {
   "cell_type": "markdown",
   "id": "a0d9f16f-ba46-4ba0-bc02-293bc5d6de3f",
   "metadata": {},
   "source": [
    "Introduction\n",
    "\n",
    "The dataset is structured with 9 variables for each patient:\n",
    "\n",
    "Information about dataset attributes -\n",
    "\n",
    "Pregnancies: To express the Number of pregnancies\n",
    "\n",
    "Glucose: To express the Glucose level in blood\n",
    "\n",
    "BloodPressure: To express the Blood pressure measurement\n",
    "\n",
    "SkinThickness: To express the thickness of the skin\n",
    "\n",
    "Insulin: To express the Insulin level in blood\n",
    "\n",
    "BMI: To express the Body mass index\n",
    "\n",
    "DiabetesPedigreeFunction: To express the Diabetes percentage\n",
    "\n",
    "Age: To express the age\n",
    "\n",
    "Outcome: To express the final result 1 is Yes and 0 is No\n",
    "\n",
    "This dataset is originally from the National Institute of Diabetes and Digestive and Kidney Diseases. The objective of the dataset is to diagnostically predict whether a patient has diabetes, based on certain diagnostic measurements included in the dataset. Several constraints were placed on the selection of these instances from a larger database. In particular, all patients here are females at least 21 years old of Pima Indian heritage.2"
   ]
  },
  {
   "cell_type": "markdown",
   "id": "6cc1bc0c-256d-48bd-a008-55e2b98dc842",
   "metadata": {},
   "source": [
    "### Importing the libraries"
   ]
  },
  {
   "cell_type": "code",
   "execution_count": 16,
   "id": "dbdb2638-cb27-4f61-ba0f-ede5736fd7ad",
   "metadata": {},
   "outputs": [],
   "source": [
    "import pandas as pd\n",
    "import numpy as np\n",
    "from sklearn.model_selection import StratifiedKFold, cross_val_score, GridSearchCV, train_test_split\n",
    "from sklearn.preprocessing import StandardScaler\n",
    "from sklearn.metrics import confusion_matrix, classification_report, accuracy_score\n",
    "from keras.models import Sequential\n",
    "from keras.layers import Dense\n",
    "from tensorflow.keras.wrappers.scikit_learn import KerasClassifier\n",
    "from keras.callbacks import EarlyStopping\n",
    "from sklearn.model_selection import train_test_split\n",
    "import seaborn as snsp\n",
    "import matplotlib.pyplot as plt\n",
    "import tensorflow as tf\n",
    "from tensorflow.keras.layers import BatchNormalization, Dropout\n",
    "from tensorflow.keras.callbacks import ReduceLROnPlateau\n",
    "import warnings\n",
    "warnings.filterwarnings('ignore')"
   ]
  },
  {
   "cell_type": "markdown",
   "id": "034783fe-3387-42bc-bb85-c7ff3873a4fe",
   "metadata": {},
   "source": [
    "## Data Preprocessing"
   ]
  },
  {
   "cell_type": "markdown",
   "id": "8041a088-d495-4aed-9ee7-579b2150c812",
   "metadata": {},
   "source": [
    "### Importing the dataset"
   ]
  },
  {
   "cell_type": "code",
   "execution_count": 17,
   "id": "d8c0ad9a-286d-4887-ba3b-ba94cdc53b2e",
   "metadata": {},
   "outputs": [],
   "source": [
    "df = pd.read_csv('../data/diabetes.csv')"
   ]
  },
  {
   "cell_type": "markdown",
   "id": "6ba627f0-11b4-46c8-9206-3db5839828d6",
   "metadata": {},
   "source": [
    "### Handling missing values"
   ]
  },
  {
   "cell_type": "code",
   "execution_count": 18,
   "id": "3de4231e-76e6-456c-87c1-415da36d38b2",
   "metadata": {},
   "outputs": [],
   "source": [
    "df['SkinThickness'] = df['SkinThickness'].replace(0, np.nan)\n",
    "df['Insulin'] = df['Insulin'].replace(0, np.nan)\n",
    "df.fillna(df.mean(), inplace=True)"
   ]
  },
  {
   "cell_type": "code",
   "execution_count": 19,
   "id": "e9f08f2d-391b-4523-83db-94f873f92f02",
   "metadata": {},
   "outputs": [
    {
     "data": {
      "text/html": [
       "<div>\n",
       "<style scoped>\n",
       "    .dataframe tbody tr th:only-of-type {\n",
       "        vertical-align: middle;\n",
       "    }\n",
       "\n",
       "    .dataframe tbody tr th {\n",
       "        vertical-align: top;\n",
       "    }\n",
       "\n",
       "    .dataframe thead th {\n",
       "        text-align: right;\n",
       "    }\n",
       "</style>\n",
       "<table border=\"1\" class=\"dataframe\">\n",
       "  <thead>\n",
       "    <tr style=\"text-align: right;\">\n",
       "      <th></th>\n",
       "      <th>Pregnancies</th>\n",
       "      <th>Glucose</th>\n",
       "      <th>BloodPressure</th>\n",
       "      <th>SkinThickness</th>\n",
       "      <th>Insulin</th>\n",
       "      <th>BMI</th>\n",
       "      <th>DiabetesPedigreeFunction</th>\n",
       "      <th>Age</th>\n",
       "      <th>Outcome</th>\n",
       "    </tr>\n",
       "  </thead>\n",
       "  <tbody>\n",
       "    <tr>\n",
       "      <th>0</th>\n",
       "      <td>6</td>\n",
       "      <td>148</td>\n",
       "      <td>72</td>\n",
       "      <td>35.00000</td>\n",
       "      <td>155.548223</td>\n",
       "      <td>33.6</td>\n",
       "      <td>0.627</td>\n",
       "      <td>50</td>\n",
       "      <td>1</td>\n",
       "    </tr>\n",
       "    <tr>\n",
       "      <th>1</th>\n",
       "      <td>1</td>\n",
       "      <td>85</td>\n",
       "      <td>66</td>\n",
       "      <td>29.00000</td>\n",
       "      <td>155.548223</td>\n",
       "      <td>26.6</td>\n",
       "      <td>0.351</td>\n",
       "      <td>31</td>\n",
       "      <td>0</td>\n",
       "    </tr>\n",
       "    <tr>\n",
       "      <th>2</th>\n",
       "      <td>8</td>\n",
       "      <td>183</td>\n",
       "      <td>64</td>\n",
       "      <td>29.15342</td>\n",
       "      <td>155.548223</td>\n",
       "      <td>23.3</td>\n",
       "      <td>0.672</td>\n",
       "      <td>32</td>\n",
       "      <td>1</td>\n",
       "    </tr>\n",
       "    <tr>\n",
       "      <th>3</th>\n",
       "      <td>1</td>\n",
       "      <td>89</td>\n",
       "      <td>66</td>\n",
       "      <td>23.00000</td>\n",
       "      <td>94.000000</td>\n",
       "      <td>28.1</td>\n",
       "      <td>0.167</td>\n",
       "      <td>21</td>\n",
       "      <td>0</td>\n",
       "    </tr>\n",
       "    <tr>\n",
       "      <th>4</th>\n",
       "      <td>0</td>\n",
       "      <td>137</td>\n",
       "      <td>40</td>\n",
       "      <td>35.00000</td>\n",
       "      <td>168.000000</td>\n",
       "      <td>43.1</td>\n",
       "      <td>2.288</td>\n",
       "      <td>33</td>\n",
       "      <td>1</td>\n",
       "    </tr>\n",
       "  </tbody>\n",
       "</table>\n",
       "</div>"
      ],
      "text/plain": [
       "   Pregnancies  Glucose  BloodPressure  SkinThickness     Insulin   BMI  \\\n",
       "0            6      148             72       35.00000  155.548223  33.6   \n",
       "1            1       85             66       29.00000  155.548223  26.6   \n",
       "2            8      183             64       29.15342  155.548223  23.3   \n",
       "3            1       89             66       23.00000   94.000000  28.1   \n",
       "4            0      137             40       35.00000  168.000000  43.1   \n",
       "\n",
       "   DiabetesPedigreeFunction  Age  Outcome  \n",
       "0                     0.627   50        1  \n",
       "1                     0.351   31        0  \n",
       "2                     0.672   32        1  \n",
       "3                     0.167   21        0  \n",
       "4                     2.288   33        1  "
      ]
     },
     "execution_count": 19,
     "metadata": {},
     "output_type": "execute_result"
    }
   ],
   "source": [
    "df.head()"
   ]
  },
  {
   "cell_type": "markdown",
   "id": "5602487f-5960-41ed-97a3-e6ada0d9c49d",
   "metadata": {},
   "source": [
    "### Creating features and target"
   ]
  },
  {
   "cell_type": "code",
   "execution_count": 20,
   "id": "3a8ece28-c18e-46d3-8b8c-40f5b29b0fad",
   "metadata": {},
   "outputs": [],
   "source": [
    "X = df.iloc[:, :-1].values\n",
    "y = df.iloc[:, -1].values"
   ]
  },
  {
   "cell_type": "code",
   "execution_count": 21,
   "id": "cee1dff0-b42b-41c9-bb61-6e4f94c38830",
   "metadata": {},
   "outputs": [
    {
     "name": "stdout",
     "output_type": "stream",
     "text": [
      "[[  6.    148.     72.    ...  33.6     0.627  50.   ]\n",
      " [  1.     85.     66.    ...  26.6     0.351  31.   ]\n",
      " [  8.    183.     64.    ...  23.3     0.672  32.   ]\n",
      " ...\n",
      " [  5.    121.     72.    ...  26.2     0.245  30.   ]\n",
      " [  1.    126.     60.    ...  30.1     0.349  47.   ]\n",
      " [  1.     93.     70.    ...  30.4     0.315  23.   ]]\n"
     ]
    }
   ],
   "source": [
    "print(X)"
   ]
  },
  {
   "cell_type": "code",
   "execution_count": 22,
   "id": "2bb5f375-6024-4f97-94c9-9862e94e49f4",
   "metadata": {},
   "outputs": [
    {
     "name": "stdout",
     "output_type": "stream",
     "text": [
      "[1 0 1 0 1 0 1 0 1 1 0 1 0 1 1 1 1 1 0 1 0 0 1 1 1 1 1 0 0 0 0 1 0 0 0 0 0\n",
      " 1 1 1 0 0 0 1 0 1 0 0 1 0 0 0 0 1 0 0 1 0 0 0 0 1 0 0 1 0 1 0 0 0 1 0 1 0\n",
      " 0 0 0 0 1 0 0 0 0 0 1 0 0 0 1 0 0 0 0 1 0 0 0 0 0 1 1 0 0 0 0 0 0 0 0 1 1\n",
      " 1 0 0 1 1 1 0 0 0 1 0 0 0 1 1 0 0 1 1 1 1 1 0 0 0 0 0 0 0 0 0 0 1 0 0 0 0\n",
      " 0 0 0 0 1 0 1 1 0 0 0 1 0 0 0 0 1 1 0 0 0 0 1 1 0 0 0 1 0 1 0 1 0 0 0 0 0\n",
      " 1 1 1 1 1 0 0 1 1 0 1 0 1 1 1 0 0 0 0 0 0 1 1 0 1 0 0 0 1 1 1 1 0 1 1 1 1\n",
      " 0 0 0 0 0 1 0 0 1 1 0 0 0 1 1 1 1 0 0 0 1 1 0 1 0 0 0 0 0 0 0 0 1 1 0 0 0\n",
      " 1 0 1 0 0 1 0 1 0 0 1 1 0 0 0 0 0 1 0 0 0 1 0 0 1 1 0 0 1 0 0 0 1 1 1 0 0\n",
      " 1 0 1 0 1 1 0 1 0 0 1 0 1 1 0 0 1 0 1 0 0 1 0 1 0 1 1 1 0 0 1 0 1 0 0 0 1\n",
      " 0 0 0 0 1 1 1 0 0 0 0 0 0 0 0 0 1 0 0 0 0 0 1 1 1 0 1 1 0 0 1 0 0 1 0 0 1\n",
      " 1 0 0 0 0 1 0 0 1 0 0 0 0 0 0 0 1 1 1 0 0 1 0 0 1 0 0 1 0 1 1 0 1 0 1 0 1\n",
      " 0 1 1 0 0 0 0 1 1 0 1 0 1 0 0 0 0 1 1 0 1 0 1 0 0 0 0 0 1 0 0 0 0 1 0 0 1\n",
      " 1 1 0 0 1 0 0 1 0 0 0 1 0 0 1 0 0 0 0 0 0 0 0 0 1 0 0 0 0 0 0 0 1 0 0 0 1\n",
      " 0 0 0 1 1 0 0 0 0 0 0 0 1 0 0 0 0 1 0 0 0 1 0 0 0 1 0 0 0 1 0 0 0 0 1 1 0\n",
      " 0 0 0 0 0 1 0 0 0 0 0 0 0 0 0 0 0 1 0 0 0 1 1 1 1 0 0 1 1 0 0 0 0 0 0 0 0\n",
      " 0 0 0 0 0 1 1 0 0 0 0 0 0 0 1 0 0 0 0 0 0 0 1 0 1 1 0 0 0 1 0 1 0 1 0 1 0\n",
      " 1 0 0 1 0 0 1 0 0 0 0 1 1 0 1 0 0 0 0 1 1 0 1 0 0 0 1 1 0 0 0 0 0 0 0 0 0\n",
      " 0 1 0 0 0 0 1 0 0 1 0 0 0 1 0 0 0 1 1 1 0 0 0 0 0 0 1 0 0 0 1 0 1 1 1 1 0\n",
      " 1 1 0 0 0 0 0 0 0 1 1 0 1 0 0 1 0 1 0 0 0 0 0 1 0 1 0 1 0 1 1 0 0 0 0 1 1\n",
      " 0 0 0 1 0 1 1 0 0 1 0 0 1 1 0 0 1 0 0 1 0 0 0 0 0 0 0 1 1 1 0 0 0 0 0 0 1\n",
      " 1 0 0 1 0 0 1 0 1 1 1 0 0 1 1 1 0 1 0 1 0 1 0 0 0 0 1 0]\n"
     ]
    }
   ],
   "source": [
    "print(y)"
   ]
  },
  {
   "cell_type": "markdown",
   "id": "6191695a-9c4d-4a53-b955-ac7d576f0525",
   "metadata": {},
   "source": [
    "### Splitting the dataset into Training and Test set"
   ]
  },
  {
   "cell_type": "code",
   "execution_count": 23,
   "id": "e7a96677-89be-4060-90a9-35c332b6327a",
   "metadata": {},
   "outputs": [],
   "source": [
    "X_train, X_test, y_train, y_test = train_test_split(X, y, test_size=0.2, random_state=42)"
   ]
  },
  {
   "cell_type": "code",
   "execution_count": 24,
   "id": "8de62cd9-2081-4e20-bb13-8da97528b488",
   "metadata": {},
   "outputs": [
    {
     "data": {
      "text/plain": [
       "(768, 9)"
      ]
     },
     "execution_count": 24,
     "metadata": {},
     "output_type": "execute_result"
    }
   ],
   "source": [
    "df.shape"
   ]
  },
  {
   "cell_type": "code",
   "execution_count": 25,
   "id": "86862af2-6f11-4fbd-906a-da6141d0ef2d",
   "metadata": {},
   "outputs": [
    {
     "data": {
      "text/plain": [
       "((614, 8), (614,))"
      ]
     },
     "execution_count": 25,
     "metadata": {},
     "output_type": "execute_result"
    }
   ],
   "source": [
    "X_train.shape, y_train.shape"
   ]
  },
  {
   "cell_type": "code",
   "execution_count": 26,
   "id": "3ad6b883-c811-49a1-b50e-a36df2252804",
   "metadata": {},
   "outputs": [
    {
     "data": {
      "text/plain": [
       "((154, 8), (154,))"
      ]
     },
     "execution_count": 26,
     "metadata": {},
     "output_type": "execute_result"
    }
   ],
   "source": [
    "X_test.shape, y_test.shape"
   ]
  },
  {
   "cell_type": "markdown",
   "id": "bba1a3e9-c99d-4a54-aba5-616526ee8fa6",
   "metadata": {},
   "source": [
    "### Feature Scaling"
   ]
  },
  {
   "cell_type": "code",
   "execution_count": 27,
   "id": "6de34c60-18b4-45f4-861f-1950982a8b39",
   "metadata": {},
   "outputs": [],
   "source": [
    "scaler = StandardScaler()\n",
    "X_train = scaler.fit_transform(X_train)\n",
    "X_test = scaler.transform(X_test)"
   ]
  },
  {
   "cell_type": "markdown",
   "id": "9c32fae3-64e4-4de2-ad9f-e1c53b76ba1d",
   "metadata": {},
   "source": [
    "## Building the ANN"
   ]
  },
  {
   "cell_type": "markdown",
   "id": "4b515027-8f9c-43a4-9e82-27f53fa5d43d",
   "metadata": {},
   "source": [
    "### Building the Initial Model"
   ]
  },
  {
   "cell_type": "code",
   "execution_count": 28,
   "id": "d48e32fb-b59b-450a-8817-bd5c816e162e",
   "metadata": {},
   "outputs": [],
   "source": [
    "\n",
    "def create_improved_model(optimizer='adam', init='uniform'):\n",
    "    model = Sequential()\n",
    "    model.add(Dense(12, input_dim=X_train.shape[1], kernel_initializer=init, activation='relu'))\n",
    "    model.add(BatchNormalization())\n",
    "    model.add(Dropout(0.5))\n",
    "    model.add(Dense(8, kernel_initializer=init, activation='relu'))\n",
    "    model.add(BatchNormalization())\n",
    "    model.add(Dropout(0.5))\n",
    "    model.add(Dense(1, kernel_initializer=init, activation='sigmoid'))\n",
    "    model.compile(loss='binary_crossentropy', optimizer=optimizer, metrics=['accuracy'])\n",
    "    return model"
   ]
  },
  {
   "cell_type": "code",
   "execution_count": 29,
   "id": "748ec84e-b037-402a-aadb-e55e47cf49cd",
   "metadata": {},
   "outputs": [],
   "source": [
    "model = create_improved_model()"
   ]
  },
  {
   "cell_type": "markdown",
   "id": "17d1618c-1679-40cc-b211-2872c80c0373",
   "metadata": {},
   "source": [
    "#### Applying KerasClassifier to the model"
   ]
  },
  {
   "cell_type": "code",
   "execution_count": 15,
   "id": "72299454-d306-4f63-aa6a-745e6bd29248",
   "metadata": {},
   "outputs": [
    {
     "ename": "NameError",
     "evalue": "name 'best_parameters' is not defined",
     "output_type": "error",
     "traceback": [
      "\u001b[0;31m---------------------------------------------------------------------------\u001b[0m",
      "\u001b[0;31mNameError\u001b[0m                                 Traceback (most recent call last)",
      "Cell \u001b[0;32mIn[15], line 3\u001b[0m\n\u001b[1;32m      1\u001b[0m \u001b[38;5;66;03m# Wrap the Keras model\u001b[39;00m\n\u001b[1;32m      2\u001b[0m keras_clf \u001b[38;5;241m=\u001b[39m KerasClassifier(build_fn\u001b[38;5;241m=\u001b[39mmodel, \n\u001b[0;32m----> 3\u001b[0m                             optimizer\u001b[38;5;241m=\u001b[39mbest_parameters[\u001b[38;5;124m'\u001b[39m\u001b[38;5;124moptimizer\u001b[39m\u001b[38;5;124m'\u001b[39m], \n\u001b[1;32m      4\u001b[0m                             init\u001b[38;5;241m=\u001b[39mbest_parameters[\u001b[38;5;124m'\u001b[39m\u001b[38;5;124minit\u001b[39m\u001b[38;5;124m'\u001b[39m], \n\u001b[1;32m      5\u001b[0m                             epochs\u001b[38;5;241m=\u001b[39mbest_parameters[\u001b[38;5;124m'\u001b[39m\u001b[38;5;124mepochs\u001b[39m\u001b[38;5;124m'\u001b[39m], \n\u001b[1;32m      6\u001b[0m                             batch_size\u001b[38;5;241m=\u001b[39mbest_parameters[\u001b[38;5;124m'\u001b[39m\u001b[38;5;124mbatch_size\u001b[39m\u001b[38;5;124m'\u001b[39m], \n\u001b[1;32m      7\u001b[0m                             verbose\u001b[38;5;241m=\u001b[39m\u001b[38;5;241m0\u001b[39m)\n",
      "\u001b[0;31mNameError\u001b[0m: name 'best_parameters' is not defined"
     ]
    }
   ],
   "source": [
    "# Wrap the Keras model\n",
    "keras_clf = KerasClassifier(build_fn=model, \n",
    "                            optimizer=best_parameters['optimizer'], \n",
    "                            init=best_parameters['init'], \n",
    "                            epochs=best_parameters['epochs'], \n",
    "                            batch_size=best_parameters['batch_size'], \n",
    "                            verbose=0)"
   ]
  },
  {
   "cell_type": "markdown",
   "id": "1191472e-b0e8-4fc1-b664-51cc0d266c3e",
   "metadata": {},
   "source": [
    "#### Applying K-Fold Cross Validation"
   ]
  },
  {
   "cell_type": "code",
   "execution_count": 16,
   "id": "1888a32a-fc42-435a-afd6-3441c85bf9d0",
   "metadata": {},
   "outputs": [
    {
     "ename": "NameError",
     "evalue": "name 'keras_clf' is not defined",
     "output_type": "error",
     "traceback": [
      "\u001b[0;31m---------------------------------------------------------------------------\u001b[0m",
      "\u001b[0;31mNameError\u001b[0m                                 Traceback (most recent call last)",
      "Cell \u001b[0;32mIn[16], line 2\u001b[0m\n\u001b[1;32m      1\u001b[0m kfold \u001b[38;5;241m=\u001b[39m StratifiedKFold(n_splits\u001b[38;5;241m=\u001b[39m\u001b[38;5;241m5\u001b[39m, shuffle\u001b[38;5;241m=\u001b[39m\u001b[38;5;28;01mTrue\u001b[39;00m, random_state\u001b[38;5;241m=\u001b[39m\u001b[38;5;241m42\u001b[39m)\n\u001b[0;32m----> 2\u001b[0m cv_results \u001b[38;5;241m=\u001b[39m cross_val_score(keras_clf, X_train, y_train, cv\u001b[38;5;241m=\u001b[39mkfold, scoring\u001b[38;5;241m=\u001b[39m\u001b[38;5;124m'\u001b[39m\u001b[38;5;124maccuracy\u001b[39m\u001b[38;5;124m'\u001b[39m)\n\u001b[1;32m      3\u001b[0m \u001b[38;5;28mprint\u001b[39m(\u001b[38;5;124m\"\u001b[39m\u001b[38;5;124mCV Accuracy: \u001b[39m\u001b[38;5;132;01m{:.2f}\u001b[39;00m\u001b[38;5;124m \u001b[39m\u001b[38;5;124m%\u001b[39m\u001b[38;5;124m\"\u001b[39m\u001b[38;5;241m.\u001b[39mformat(cv_results\u001b[38;5;241m.\u001b[39mmean()\u001b[38;5;241m*\u001b[39m\u001b[38;5;241m100\u001b[39m))\n\u001b[1;32m      4\u001b[0m \u001b[38;5;28mprint\u001b[39m(\u001b[38;5;124m\"\u001b[39m\u001b[38;5;124mCV Standard Deviation: \u001b[39m\u001b[38;5;132;01m{:.2f}\u001b[39;00m\u001b[38;5;124m \u001b[39m\u001b[38;5;124m%\u001b[39m\u001b[38;5;124m\"\u001b[39m\u001b[38;5;241m.\u001b[39mformat(cv_results\u001b[38;5;241m.\u001b[39mstd()\u001b[38;5;241m*\u001b[39m\u001b[38;5;241m100\u001b[39m))\n",
      "\u001b[0;31mNameError\u001b[0m: name 'keras_clf' is not defined"
     ]
    }
   ],
   "source": [
    "kfold = StratifiedKFold(n_splits=5, shuffle=True, random_state=42)\n",
    "cv_results = cross_val_score(keras_clf, X_train, y_train, cv=kfold, scoring='accuracy')\n",
    "print(\"CV Accuracy: {:.2f} %\".format(cv_results.mean()*100))\n",
    "print(\"CV Standard Deviation: {:.2f} %\".format(cv_results.std()*100))"
   ]
  },
  {
   "cell_type": "markdown",
   "id": "eb447738-4256-43ef-8dbf-e5ef73769ead",
   "metadata": {},
   "source": [
    "#### Applying Grid Search to find the best model and best parameters"
   ]
  },
  {
   "cell_type": "code",
   "execution_count": 15,
   "id": "345d7e54-256d-4fac-b327-5786779d2461",
   "metadata": {
    "scrolled": true
   },
   "outputs": [
    {
     "ename": "NameError",
     "evalue": "name 'kfold' is not defined",
     "output_type": "error",
     "traceback": [
      "\u001b[0;31m---------------------------------------------------------------------------\u001b[0m",
      "\u001b[0;31mNameError\u001b[0m                                 Traceback (most recent call last)",
      "Cell \u001b[0;32mIn[15], line 6\u001b[0m\n\u001b[1;32m      1\u001b[0m \u001b[38;5;66;03m# Grid Search with Cross-Validation\u001b[39;00m\n\u001b[1;32m      2\u001b[0m parameters \u001b[38;5;241m=\u001b[39m [{\u001b[38;5;124m'\u001b[39m\u001b[38;5;124mbatch_size\u001b[39m\u001b[38;5;124m'\u001b[39m:[\u001b[38;5;241m10\u001b[39m,\u001b[38;5;241m20\u001b[39m,\u001b[38;5;241m40\u001b[39m], \u001b[38;5;124m'\u001b[39m\u001b[38;5;124mepochs\u001b[39m\u001b[38;5;124m'\u001b[39m:[\u001b[38;5;241m50\u001b[39m,\u001b[38;5;241m100\u001b[39m,\u001b[38;5;241m150\u001b[39m],\u001b[38;5;124m'\u001b[39m\u001b[38;5;124moptimizer\u001b[39m\u001b[38;5;124m'\u001b[39m: [\u001b[38;5;124m'\u001b[39m\u001b[38;5;124mSGD\u001b[39m\u001b[38;5;124m'\u001b[39m, \u001b[38;5;124m'\u001b[39m\u001b[38;5;124mRMSprop\u001b[39m\u001b[38;5;124m'\u001b[39m, \u001b[38;5;124m'\u001b[39m\u001b[38;5;124mAdam\u001b[39m\u001b[38;5;124m'\u001b[39m], \u001b[38;5;124m'\u001b[39m\u001b[38;5;124minit\u001b[39m\u001b[38;5;124m'\u001b[39m : [\u001b[38;5;124m'\u001b[39m\u001b[38;5;124muniform\u001b[39m\u001b[38;5;124m'\u001b[39m, \u001b[38;5;124m'\u001b[39m\u001b[38;5;124mnormal\u001b[39m\u001b[38;5;124m'\u001b[39m, \u001b[38;5;124m'\u001b[39m\u001b[38;5;124mhe_uniform\u001b[39m\u001b[38;5;124m'\u001b[39m]}]\n\u001b[1;32m      3\u001b[0m grid_search \u001b[38;5;241m=\u001b[39m GridSearchCV(estimator\u001b[38;5;241m=\u001b[39mmodel,\n\u001b[1;32m      4\u001b[0m                           param_grid\u001b[38;5;241m=\u001b[39mparameters,\n\u001b[1;32m      5\u001b[0m                           scoring\u001b[38;5;241m=\u001b[39m\u001b[38;5;124m'\u001b[39m\u001b[38;5;124maccuracy\u001b[39m\u001b[38;5;124m'\u001b[39m,\n\u001b[0;32m----> 6\u001b[0m                           cv\u001b[38;5;241m=\u001b[39mkfold,\n\u001b[1;32m      7\u001b[0m                           n_jobs\u001b[38;5;241m=\u001b[39m \u001b[38;5;241m-\u001b[39m\u001b[38;5;241m1\u001b[39m)\n\u001b[1;32m      8\u001b[0m grid_search\u001b[38;5;241m.\u001b[39mfit(X_train, y_train)\n\u001b[1;32m      9\u001b[0m best_accuracy \u001b[38;5;241m=\u001b[39m grid_search\u001b[38;5;241m.\u001b[39mbest_score_\n",
      "\u001b[0;31mNameError\u001b[0m: name 'kfold' is not defined"
     ]
    }
   ],
   "source": [
    "# Grid Search with Cross-Validation\n",
    "parameters = [{'batch_size':[10,20,40], 'epochs':[50,100,150],'optimizer': ['SGD', 'RMSprop', 'Adam'], 'init' : ['uniform', 'normal', 'he_uniform']}]\n",
    "grid_search = GridSearchCV(estimator=model,\n",
    "                          param_grid=parameters,\n",
    "                          scoring='accuracy',\n",
    "                          cv=kfold,\n",
    "                          n_jobs= -1)\n",
    "grid_search.fit(X_train, y_train)\n",
    "best_accuracy = grid_search.best_score_\n",
    "best_parameters = grid_search.best_params_\n",
    "print(\"Best Accuracy: {:.2f} %\".format(best_accuracy*100))\n",
    "print(\"Best Parameters: \", best_parameters)"
   ]
  },
  {
   "cell_type": "markdown",
   "id": "9b5d8cf7-f6a5-4fe5-91bf-4e6dcd3b40b8",
   "metadata": {},
   "source": [
    "#### Training the Improved Model with EarlyStopping and ReduceLROnPlateau"
   ]
  },
  {
   "cell_type": "code",
   "execution_count": 42,
   "id": "2a32b771-3d12-4781-a3cf-fc1ee352105f",
   "metadata": {
    "scrolled": true
   },
   "outputs": [
    {
     "name": "stdout",
     "output_type": "stream",
     "text": [
      "Epoch 1/50\n",
      "50/50 [==============================] - 1s 3ms/step - loss: 0.6834 - accuracy: 0.5866 - val_loss: 0.6882 - val_accuracy: 0.6098 - lr: 0.0010\n",
      "Epoch 2/50\n",
      "50/50 [==============================] - 0s 1ms/step - loss: 0.6537 - accuracy: 0.6782 - val_loss: 0.6812 - val_accuracy: 0.6098 - lr: 0.0010\n",
      "Epoch 3/50\n",
      "50/50 [==============================] - 0s 1ms/step - loss: 0.6090 - accuracy: 0.7108 - val_loss: 0.6686 - val_accuracy: 0.6098 - lr: 0.0010\n",
      "Epoch 4/50\n",
      "50/50 [==============================] - 0s 1ms/step - loss: 0.6012 - accuracy: 0.7088 - val_loss: 0.6519 - val_accuracy: 0.6098 - lr: 0.0010\n",
      "Epoch 5/50\n",
      "50/50 [==============================] - 0s 1ms/step - loss: 0.5665 - accuracy: 0.7434 - val_loss: 0.6284 - val_accuracy: 0.6341 - lr: 0.0010\n",
      "Epoch 6/50\n",
      "50/50 [==============================] - 0s 1ms/step - loss: 0.5471 - accuracy: 0.7576 - val_loss: 0.5984 - val_accuracy: 0.7154 - lr: 0.0010\n",
      "Epoch 7/50\n",
      "50/50 [==============================] - 0s 1ms/step - loss: 0.5563 - accuracy: 0.7230 - val_loss: 0.5789 - val_accuracy: 0.7480 - lr: 0.0010\n",
      "Epoch 8/50\n",
      "50/50 [==============================] - 0s 1ms/step - loss: 0.5381 - accuracy: 0.7434 - val_loss: 0.5507 - val_accuracy: 0.7561 - lr: 0.0010\n",
      "Epoch 9/50\n",
      "50/50 [==============================] - 0s 1ms/step - loss: 0.5376 - accuracy: 0.7597 - val_loss: 0.5236 - val_accuracy: 0.7561 - lr: 0.0010\n",
      "Epoch 10/50\n",
      "50/50 [==============================] - 0s 1ms/step - loss: 0.5439 - accuracy: 0.7373 - val_loss: 0.5037 - val_accuracy: 0.7805 - lr: 0.0010\n",
      "Epoch 11/50\n",
      "50/50 [==============================] - 0s 1ms/step - loss: 0.5142 - accuracy: 0.7434 - val_loss: 0.4832 - val_accuracy: 0.7886 - lr: 0.0010\n",
      "Epoch 12/50\n",
      "50/50 [==============================] - 0s 975us/step - loss: 0.5244 - accuracy: 0.7576 - val_loss: 0.4731 - val_accuracy: 0.7886 - lr: 0.0010\n",
      "Epoch 13/50\n",
      "50/50 [==============================] - 0s 987us/step - loss: 0.5073 - accuracy: 0.7536 - val_loss: 0.4695 - val_accuracy: 0.7805 - lr: 0.0010\n",
      "Epoch 14/50\n",
      "50/50 [==============================] - 0s 993us/step - loss: 0.5089 - accuracy: 0.7413 - val_loss: 0.4666 - val_accuracy: 0.7886 - lr: 0.0010\n",
      "Epoch 15/50\n",
      "50/50 [==============================] - 0s 911us/step - loss: 0.5029 - accuracy: 0.7719 - val_loss: 0.4701 - val_accuracy: 0.7886 - lr: 0.0010\n",
      "Epoch 16/50\n",
      "50/50 [==============================] - 0s 882us/step - loss: 0.5021 - accuracy: 0.7495 - val_loss: 0.4648 - val_accuracy: 0.7886 - lr: 0.0010\n",
      "Epoch 17/50\n",
      "50/50 [==============================] - 0s 909us/step - loss: 0.5114 - accuracy: 0.7454 - val_loss: 0.4637 - val_accuracy: 0.7642 - lr: 0.0010\n",
      "Epoch 18/50\n",
      "50/50 [==============================] - 0s 869us/step - loss: 0.5080 - accuracy: 0.7617 - val_loss: 0.4648 - val_accuracy: 0.7886 - lr: 0.0010\n",
      "Epoch 19/50\n",
      "50/50 [==============================] - 0s 924us/step - loss: 0.4864 - accuracy: 0.7760 - val_loss: 0.4623 - val_accuracy: 0.7805 - lr: 0.0010\n",
      "Epoch 20/50\n",
      "50/50 [==============================] - 0s 939us/step - loss: 0.4853 - accuracy: 0.7495 - val_loss: 0.4563 - val_accuracy: 0.7724 - lr: 0.0010\n",
      "Epoch 21/50\n",
      "50/50 [==============================] - 0s 902us/step - loss: 0.5095 - accuracy: 0.7495 - val_loss: 0.4564 - val_accuracy: 0.7642 - lr: 0.0010\n",
      "Epoch 22/50\n",
      "50/50 [==============================] - 0s 912us/step - loss: 0.5012 - accuracy: 0.7536 - val_loss: 0.4505 - val_accuracy: 0.7886 - lr: 0.0010\n",
      "Epoch 23/50\n",
      "50/50 [==============================] - 0s 926us/step - loss: 0.5123 - accuracy: 0.7739 - val_loss: 0.4443 - val_accuracy: 0.7805 - lr: 0.0010\n",
      "Epoch 24/50\n",
      "50/50 [==============================] - 0s 912us/step - loss: 0.5069 - accuracy: 0.7454 - val_loss: 0.4485 - val_accuracy: 0.7805 - lr: 0.0010\n",
      "Epoch 25/50\n",
      "50/50 [==============================] - 0s 933us/step - loss: 0.5041 - accuracy: 0.7475 - val_loss: 0.4494 - val_accuracy: 0.7724 - lr: 0.0010\n",
      "Epoch 26/50\n",
      "50/50 [==============================] - 0s 903us/step - loss: 0.5417 - accuracy: 0.7475 - val_loss: 0.4569 - val_accuracy: 0.7967 - lr: 0.0010\n",
      "Epoch 27/50\n",
      "50/50 [==============================] - 0s 924us/step - loss: 0.4893 - accuracy: 0.7821 - val_loss: 0.4600 - val_accuracy: 0.7805 - lr: 0.0010\n",
      "Epoch 28/50\n",
      "50/50 [==============================] - 0s 912us/step - loss: 0.5107 - accuracy: 0.7637 - val_loss: 0.4556 - val_accuracy: 0.7724 - lr: 0.0010\n",
      "Epoch 29/50\n",
      "50/50 [==============================] - 0s 874us/step - loss: 0.5056 - accuracy: 0.7373 - val_loss: 0.4561 - val_accuracy: 0.7805 - lr: 0.0010\n",
      "Epoch 30/50\n",
      "50/50 [==============================] - 0s 890us/step - loss: 0.4891 - accuracy: 0.7658 - val_loss: 0.4538 - val_accuracy: 0.7886 - lr: 0.0010\n",
      "Epoch 31/50\n",
      "50/50 [==============================] - 0s 883us/step - loss: 0.4824 - accuracy: 0.7699 - val_loss: 0.4506 - val_accuracy: 0.7805 - lr: 0.0010\n",
      "Epoch 32/50\n",
      "50/50 [==============================] - 0s 920us/step - loss: 0.4825 - accuracy: 0.7658 - val_loss: 0.4479 - val_accuracy: 0.7724 - lr: 0.0010\n",
      "Epoch 33/50\n",
      "50/50 [==============================] - 0s 1ms/step - loss: 0.5143 - accuracy: 0.7678 - val_loss: 0.4517 - val_accuracy: 0.7642 - lr: 0.0010\n"
     ]
    }
   ],
   "source": [
    "early_stopping = EarlyStopping(monitor='val_loss', patience=10, restore_best_weights=True)\n",
    "reduce_lr = ReduceLROnPlateau(monitor='val_loss', factor=0.2, patience=5, min_lr=0.001)\n",
    "history = model.fit(X_train, y_train, validation_split=0.2, epochs=best_parameters['epochs'], \n",
    "                         batch_size=best_parameters['batch_size'], callbacks=[early_stopping, reduce_lr], verbose=1)"
   ]
  },
  {
   "cell_type": "markdown",
   "id": "1d4e8efd-bf70-4251-bbb0-3a3278f7563e",
   "metadata": {},
   "source": [
    "### Making the Confusion Matrix and evaluating the model"
   ]
  },
  {
   "cell_type": "code",
   "execution_count": 58,
   "id": "d6bcd49d-4614-4131-8bac-642b032bc9e2",
   "metadata": {},
   "outputs": [
    {
     "name": "stdout",
     "output_type": "stream",
     "text": [
      "5/5 [==============================] - 0s 799us/step\n",
      "[[85 14]\n",
      " [21 34]]\n",
      "0.7727272727272727\n"
     ]
    }
   ],
   "source": [
    "# Evaluate the model\n",
    "y_best_pred = (model.predict(X_test) > 0.5)\n",
    "cm_best = confusion_matrix(y_test, y_best_pred)\n",
    "print(cm_best)\n",
    "print(accuracy_score(y_test, y_best_pred))"
   ]
  },
  {
   "cell_type": "markdown",
   "id": "60120b1c-7737-41db-b4e4-ee82f59bf4c2",
   "metadata": {},
   "source": [
    "#### Save the model"
   ]
  },
  {
   "cell_type": "code",
   "execution_count": 44,
   "id": "a32ce53b-896e-45c7-a617-f1bae6ce85d7",
   "metadata": {},
   "outputs": [
    {
     "name": "stderr",
     "output_type": "stream",
     "text": [
      "2024-08-07 16:08:39.941804: I tensorflow/core/common_runtime/executor.cc:1197] [/device:CPU:0] (DEBUG INFO) Executor start aborting (this does not indicate an error and you can ignore this message): INVALID_ARGUMENT: You must feed a value for placeholder tensor 'inputs' with dtype float and shape [?,12]\n",
      "\t [[{{node inputs}}]]\n",
      "2024-08-07 16:08:39.950952: I tensorflow/core/common_runtime/executor.cc:1197] [/device:CPU:0] (DEBUG INFO) Executor start aborting (this does not indicate an error and you can ignore this message): INVALID_ARGUMENT: You must feed a value for placeholder tensor 'inputs' with dtype float and shape [?,8]\n",
      "\t [[{{node inputs}}]]\n",
      "2024-08-07 16:08:40.063886: I tensorflow/core/common_runtime/executor.cc:1197] [/device:CPU:0] (DEBUG INFO) Executor start aborting (this does not indicate an error and you can ignore this message): INVALID_ARGUMENT: You must feed a value for placeholder tensor 'inputs' with dtype float and shape [?,12]\n",
      "\t [[{{node inputs}}]]\n",
      "2024-08-07 16:08:40.096073: I tensorflow/core/common_runtime/executor.cc:1197] [/device:CPU:0] (DEBUG INFO) Executor start aborting (this does not indicate an error and you can ignore this message): INVALID_ARGUMENT: You must feed a value for placeholder tensor 'inputs' with dtype float and shape [?,8]\n",
      "\t [[{{node inputs}}]]\n",
      "WARNING:absl:Found untraced functions such as _update_step_xla while saving (showing 1 of 1). These functions will not be directly callable after loading.\n"
     ]
    },
    {
     "name": "stdout",
     "output_type": "stream",
     "text": [
      "INFO:tensorflow:Assets written to: ../models/ANN_model/assets\n"
     ]
    },
    {
     "name": "stderr",
     "output_type": "stream",
     "text": [
      "INFO:tensorflow:Assets written to: ../models/ANN_model/assets\n"
     ]
    }
   ],
   "source": [
    "\n",
    "model.save('../models/ANN_model')\n"
   ]
  },
  {
   "cell_type": "markdown",
   "id": "045adf86-f8fd-439d-b83c-d046cb8203c2",
   "metadata": {},
   "source": [
    "## Conclusion Report"
   ]
  },
  {
   "cell_type": "markdown",
   "id": "02f02a46-0b5e-4a96-984c-029930cc13c4",
   "metadata": {},
   "source": [
    "The code provided implements several machine learning models to predict diabetes based on various patient metrics. Here's a step-by-step analysis of each model and the results obtained:\n",
    "\n",
    "Data Preprocessing\n",
    "\n",
    "The dataset is loaded, and missing values are handled by replacing zeros with the mean value in the 'SkinThickness' and 'Insulin' columns. This step ensures that the dataset is complete and can be processed without errors due to missing values. The dataset is then split into features (X) and target (y) variables, where X contains all columns except the target variable (diabetes outcome), and y contains the target variable.\n",
    "The data is then split into training and testing sets using an 80-20 split. This allows the model to be trained on a portion of the data and tested on another to evaluate its performance. The data is also normalized using StandardScaler to standardize the features, which is a common practice in machine learning to improve model performance.\n",
    "\n",
    "Building ANN\n",
    "\n",
    "Building the initial model involves setting up a simple artificial neural network using Keras, configured with one hidden layer. The model is trained on the training data for 100 epochs and subsequently evaluated on the test set. The initial results indicate a decent level of accuracy at 75.32%. The evaluation metrics such as precision, recall, and F1-score, particularly for classifying non-diabetic patients (class 0) and diabetic patients (class 1), are reported as follows: for non-diabetic predictions, precision is 0.80, recall is 0.82, and the F1-score is 0.81; for diabetic predictions, precision is 0.66, recall is 0.64, and F1-score is 0.65. These results reflect a reasonably good performance but also highlight areas for potential improvement, especially in predicting diabetic outcomes more accurately.\n",
    "\n",
    "To optimize the model, KerasClassifier is used to enable integration with scikit-learn's utilities, such as cross-validation. The initial model undergoes K-fold cross-validation with 5 splits, resulting in a mean accuracy of 65.31% with a standard deviation of 0.34%. This variance suggests that while the model performs adequately on average, its performance across different subsets of data could be improved.\n",
    "\n",
    "The grid search is conducted to optimize hyperparameters, leading to the identification of the best parameters: a batch size of 10, 150 epochs, 'he_uniform' initialization, and 'Adam' optimizer. An improved model incorporating these parameters along with batch normalization and dropout to combat overfitting is then built and validated using K-fold cross-validation. The improved model shows enhanced consistency and robustness with a cross-validation mean accuracy of 76.22% and a standard deviation of 2.63%, indicating better stability across data splits.\n",
    "\n",
    "Advanced training techniques such as Early Stopping and ReduceLROnPlateau are implemented to further refine the training process. Early Stopping halts training if no improvement is observed in the validation loss for 10 epochs, and ReduceLROnPlateau reduces the learning rate if the validation loss does not improve for 5 epochs. These techniques help in achieving better model convergence and generalization.\n",
    "\n",
    "The final evaluation of the improved model on the test set after training with optimized parameters and advanced techniques shows a commendable improvement in accuracy, reaching 77.27%. The corresponding confusion matrix for this evaluation phase shows that the model accurately predicts non-diabetic outcomes with a true negative rate of 85 and a false positive rate of 14, while diabetic outcomes are predicted with a true positive rate of 34 and a false negative rate of 21.\n",
    "\n",
    "In conclusion, the progression from basic data handling to deploying an optimized neural network model demonstrates a meticulous and iterative methodology in machine learning model development. The detailed reporting of model performances at each stage, alongside systematic parameter optimization and advanced training techniques, showcases a robust approach for enhancing predictive accuracy and model robustness, exemplifying best practices in tackling similar predictive modeling challenges across various domains.\n"
   ]
  },
  {
   "cell_type": "markdown",
   "id": "159e88b7-d88c-4cc5-b776-39d20f2cb785",
   "metadata": {},
   "source": [
    "### How to improve the model"
   ]
  },
  {
   "cell_type": "markdown",
   "id": "ffbe1e44-174d-4dce-88bd-6228f648a697",
   "metadata": {},
   "source": [
    "* Data Imbalance: Apply techniques like resampling, synthetic data generation (e.g., SMOTE), or use of appropriate metrics to handle class imbalance in the Outcome variable.\n",
    "* Feature Transformation: Consider transformations (e.g., log transformation) for skewed features to normalize the distribution, which can improve model performance."
   ]
  },
  {
   "cell_type": "code",
   "execution_count": null,
   "id": "0e7a3c7b-f618-4b53-b572-02adafb2f2e1",
   "metadata": {},
   "outputs": [],
   "source": []
  }
 ],
 "metadata": {
  "kernelspec": {
   "display_name": "Python 3 (ipykernel)",
   "language": "python",
   "name": "python3"
  },
  "language_info": {
   "codemirror_mode": {
    "name": "ipython",
    "version": 3
   },
   "file_extension": ".py",
   "mimetype": "text/x-python",
   "name": "python",
   "nbconvert_exporter": "python",
   "pygments_lexer": "ipython3",
   "version": "3.11.5"
  }
 },
 "nbformat": 4,
 "nbformat_minor": 5
}
